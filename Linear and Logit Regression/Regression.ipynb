{
  "nbformat": 4,
  "nbformat_minor": 0,
  "metadata": {
    "colab": {
      "provenance": []
    },
    "kernelspec": {
      "name": "python3",
      "display_name": "Python 3"
    },
    "language_info": {
      "name": "python"
    }
  },
  "cells": [
    {
      "cell_type": "markdown",
      "source": [
        "### <center>Regressioon</center>\n",
        "1. import packages and data\n",
        "2. linear regressioin: statsmodel, sklearn\n",
        "3. logit regression: statsmodel, sklearn\n",
        "\n"
      ],
      "metadata": {
        "id": "jSnsKslYJy7N"
      }
    },
    {
      "cell_type": "code",
      "execution_count": 14,
      "metadata": {
        "id": "lxZlc8yoJwie"
      },
      "outputs": [],
      "source": [
        "# 1. import packages and data\n",
        "import pandas as pd\n",
        "import numpy as np\n",
        "\n",
        "from sklearn import linear_model\n",
        "import sklearn.metrics as sk_m\n",
        "import sklearn.isotonic as sk_i\n",
        "import sklearn.linear_model as sk_lm\n",
        "import matplotlib.pyplot as plt\n",
        "\n",
        "import statsmodels.formula.api as smf\n",
        "import seaborn as sns\n"
      ]
    },
    {
      "cell_type": "markdown",
      "source": [
        "#### <center>linear regression</center>"
      ],
      "metadata": {
        "id": "NhQU6Oo6MQId"
      }
    },
    {
      "cell_type": "code",
      "source": [
        "# 2.1 statsmodel\n",
        "# data preprocessing\n",
        "df_apt = pd.read_excel('UWS_Apt.xlsx').drop(columns=['Property.Type', 'ZIP.code'])\n",
        "df_apt.columns = [i.replace('.','_') for i in df_apt.columns]\n",
        "\n",
        "#fit the model\n",
        "linear_regression = smf.ols('''Price_per_SqFt ~ SqFt + Nb_of_Bedrooms + Nb_of_Bathrooms\n",
        "                                + Number_of_Rooms + Floor + Doorman + Gym''', data=df_apt).fit()\n",
        "linear_regression.summary()\n",
        "\n",
        "#use the result to predict\n",
        "linear_regression.predict(df_apt)"
      ],
      "metadata": {
        "colab": {
          "base_uri": "https://localhost:8080/"
        },
        "id": "DYberGafLimX",
        "outputId": "aaf52829-5c07-4a61-968b-a10a652d0c6c"
      },
      "execution_count": 2,
      "outputs": [
        {
          "output_type": "execute_result",
          "data": {
            "text/plain": [
              "0       1501.555400\n",
              "1       1872.730394\n",
              "2       1021.763739\n",
              "3       1303.547569\n",
              "4       1061.697612\n",
              "           ...     \n",
              "1459    1330.741650\n",
              "1460    2292.110719\n",
              "1461    1387.153119\n",
              "1462    1521.820083\n",
              "1463    1114.928961\n",
              "Length: 1464, dtype: float64"
            ]
          },
          "metadata": {},
          "execution_count": 2
        }
      ]
    },
    {
      "cell_type": "code",
      "source": [
        "# 2.2 sklearn\n",
        "\n",
        "#fit the model\n",
        "linear_regression = linear_model.LinearRegression()\n",
        "X = df_apt.drop(columns='Price_per_SqFt')\n",
        "y = df_apt.Price_per_SqFt\n",
        "linear_regression.fit(X, y)\n",
        "\n",
        "#result\n",
        "linear_regression.intercept_\n",
        "linear_regression.coef_\n",
        "pd.DataFrame({'col_names':['Intercept'] + X.columns.tolist(),\n",
        "                 'coeffs':[linear_regression.intercept_] + linear_regression.coef_.tolist()})\n",
        "\n",
        "#to predict\n",
        "linear_regression.predict(X)\n",
        "predicted_vals = linear_regression.predict(X)\n",
        "sk_m.r2_score(y, predicted_vals)"
      ],
      "metadata": {
        "colab": {
          "base_uri": "https://localhost:8080/"
        },
        "id": "BlJh9Fz7Lffa",
        "outputId": "1f349f72-d480-4f19-bf80-6287750a67f1"
      },
      "execution_count": 3,
      "outputs": [
        {
          "output_type": "execute_result",
          "data": {
            "text/plain": [
              "0.44926201520287856"
            ]
          },
          "metadata": {},
          "execution_count": 3
        }
      ]
    },
    {
      "cell_type": "markdown",
      "source": [
        "### <center>logit regression</center>"
      ],
      "metadata": {
        "id": "Z-6ld6-QMWHE"
      }
    },
    {
      "cell_type": "code",
      "source": [
        "# 3. logit regression\n",
        "\n",
        "#data preprocessing\n",
        "df_nomis = pd.read_excel('Nomis data.xlsx')\n",
        "df_nomis_sub = df_nomis[['Rate', 'Competition rate', 'Outcome']].copy()\n",
        "df_nomis_sub = df_nomis_sub.rename(columns={'Competition rate':'Competition_rate'})"
      ],
      "metadata": {
        "id": "n6Wtyi9LKVi5"
      },
      "execution_count": 6,
      "outputs": []
    },
    {
      "cell_type": "code",
      "source": [
        "# 3.1 statsmodel\n",
        "\n",
        "logistic_reg = smf.logit('Outcome ~ Rate + Competition_rate', data=df_nomis_sub).fit()\n",
        "logistic_reg.summary()\n"
      ],
      "metadata": {
        "colab": {
          "base_uri": "https://localhost:8080/",
          "height": 327
        },
        "id": "b7Pfj_sKMvPh",
        "outputId": "fbdde475-73f9-4c49-976a-529f8c300f9e"
      },
      "execution_count": 7,
      "outputs": [
        {
          "output_type": "stream",
          "name": "stdout",
          "text": [
            "Optimization terminated successfully.\n",
            "         Current function value: 0.511217\n",
            "         Iterations 6\n"
          ]
        },
        {
          "output_type": "execute_result",
          "data": {
            "text/plain": [
              "<class 'statsmodels.iolib.summary.Summary'>\n",
              "\"\"\"\n",
              "                           Logit Regression Results                           \n",
              "==============================================================================\n",
              "Dep. Variable:                Outcome   No. Observations:               208085\n",
              "Model:                          Logit   Df Residuals:                   208082\n",
              "Method:                           MLE   Df Model:                            2\n",
              "Date:                Mon, 31 Oct 2022   Pseudo R-squ.:                 0.02987\n",
              "Time:                        18:37:12   Log-Likelihood:            -1.0638e+05\n",
              "converged:                       True   LL-Null:                   -1.0965e+05\n",
              "Covariance Type:            nonrobust   LLR p-value:                     0.000\n",
              "====================================================================================\n",
              "                       coef    std err          z      P>|z|      [0.025      0.975]\n",
              "------------------------------------------------------------------------------------\n",
              "Intercept           -4.3491      0.045    -95.842      0.000      -4.438      -4.260\n",
              "Rate                -0.1379      0.004    -33.824      0.000      -0.146      -0.130\n",
              "Competition_rate     0.7922      0.010     79.478      0.000       0.773       0.812\n",
              "====================================================================================\n",
              "\"\"\""
            ],
            "text/html": [
              "<table class=\"simpletable\">\n",
              "<caption>Logit Regression Results</caption>\n",
              "<tr>\n",
              "  <th>Dep. Variable:</th>        <td>Outcome</td>     <th>  No. Observations:  </th>   <td>208085</td>   \n",
              "</tr>\n",
              "<tr>\n",
              "  <th>Model:</th>                 <td>Logit</td>      <th>  Df Residuals:      </th>   <td>208082</td>   \n",
              "</tr>\n",
              "<tr>\n",
              "  <th>Method:</th>                 <td>MLE</td>       <th>  Df Model:          </th>   <td>     2</td>   \n",
              "</tr>\n",
              "<tr>\n",
              "  <th>Date:</th>            <td>Mon, 31 Oct 2022</td> <th>  Pseudo R-squ.:     </th>   <td>0.02987</td>  \n",
              "</tr>\n",
              "<tr>\n",
              "  <th>Time:</th>                <td>18:37:12</td>     <th>  Log-Likelihood:    </th> <td>-1.0638e+05</td>\n",
              "</tr>\n",
              "<tr>\n",
              "  <th>converged:</th>             <td>True</td>       <th>  LL-Null:           </th> <td>-1.0965e+05</td>\n",
              "</tr>\n",
              "<tr>\n",
              "  <th>Covariance Type:</th>     <td>nonrobust</td>    <th>  LLR p-value:       </th>   <td> 0.000</td>   \n",
              "</tr>\n",
              "</table>\n",
              "<table class=\"simpletable\">\n",
              "<tr>\n",
              "          <td></td>            <th>coef</th>     <th>std err</th>      <th>z</th>      <th>P>|z|</th>  <th>[0.025</th>    <th>0.975]</th>  \n",
              "</tr>\n",
              "<tr>\n",
              "  <th>Intercept</th>        <td>   -4.3491</td> <td>    0.045</td> <td>  -95.842</td> <td> 0.000</td> <td>   -4.438</td> <td>   -4.260</td>\n",
              "</tr>\n",
              "<tr>\n",
              "  <th>Rate</th>             <td>   -0.1379</td> <td>    0.004</td> <td>  -33.824</td> <td> 0.000</td> <td>   -0.146</td> <td>   -0.130</td>\n",
              "</tr>\n",
              "<tr>\n",
              "  <th>Competition_rate</th> <td>    0.7922</td> <td>    0.010</td> <td>   79.478</td> <td> 0.000</td> <td>    0.773</td> <td>    0.812</td>\n",
              "</tr>\n",
              "</table>"
            ]
          },
          "metadata": {},
          "execution_count": 7
        }
      ]
    },
    {
      "cell_type": "code",
      "source": [
        "# 3.2 sklearn\n",
        "\n",
        "#fitting the model\n",
        "logistic_reg = sk_lm.LogisticRegression(penalty='none')\n",
        "X = df_nomis_sub[['Rate', 'Competition_rate']]\n",
        "y = df_nomis_sub.Outcome\n",
        "logistic_reg.fit(X, y)\n",
        "\n",
        "#results\n",
        "print(logistic_reg.intercept_)\n",
        "print(logistic_reg.coef_)\n",
        "\n",
        "# predict\n",
        "logistic_reg.predict(X)\n",
        "logistic_reg.predict_proba(X)"
      ],
      "metadata": {
        "colab": {
          "base_uri": "https://localhost:8080/"
        },
        "id": "O2SJIguIMvVC",
        "outputId": "32903d5e-327d-4657-b2b6-3013b5e8d04a"
      },
      "execution_count": 11,
      "outputs": [
        {
          "output_type": "stream",
          "name": "stdout",
          "text": [
            "[-4.3491978]\n",
            "[[-0.13784947  0.79217734]]\n"
          ]
        },
        {
          "output_type": "execute_result",
          "data": {
            "text/plain": [
              "array([[0.60601262, 0.39398738],\n",
              "       [0.65253241, 0.34746759],\n",
              "       [0.65253241, 0.34746759],\n",
              "       ...,\n",
              "       [0.88498259, 0.11501741],\n",
              "       [0.80464232, 0.19535768],\n",
              "       [0.76417515, 0.23582485]])"
            ]
          },
          "metadata": {},
          "execution_count": 11
        }
      ]
    },
    {
      "cell_type": "code",
      "source": [],
      "metadata": {
        "id": "JMIPsUEXMvYB"
      },
      "execution_count": null,
      "outputs": []
    },
    {
      "cell_type": "code",
      "source": [],
      "metadata": {
        "id": "EfZLxMg1KVrQ"
      },
      "execution_count": null,
      "outputs": []
    }
  ]
}
