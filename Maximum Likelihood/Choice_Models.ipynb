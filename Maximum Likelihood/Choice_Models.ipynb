{
  "nbformat": 4,
  "nbformat_minor": 0,
  "metadata": {
    "colab": {
      "provenance": []
    },
    "kernelspec": {
      "name": "python3",
      "display_name": "Python 3"
    },
    "language_info": {
      "name": "python"
    }
  },
  "cells": [
    {
      "cell_type": "markdown",
      "source": [
        "### <center>Choice Model</center>\n"
      ],
      "metadata": {
        "id": "T85dIwvmBUvZ"
      }
    },
    {
      "cell_type": "markdown",
      "source": [
        "1. import packages and data\n",
        "2. preprocessing\n",
        "3. model formatting, feeding, and summary"
      ],
      "metadata": {
        "id": "v0dNszdbBcYs"
      }
    },
    {
      "cell_type": "code",
      "execution_count": 5,
      "metadata": {
        "colab": {
          "base_uri": "https://localhost:8080/"
        },
        "id": "7AT-BquqAn7s",
        "outputId": "3e0f1c53-302b-47b0-ec05-f844bb092efa"
      },
      "outputs": [
        {
          "output_type": "stream",
          "name": "stdout",
          "text": [
            "Looking in indexes: https://pypi.org/simple, https://us-python.pkg.dev/colab-wheels/public/simple/\n",
            "Requirement already satisfied: pylogit in /usr/local/lib/python3.7/dist-packages (1.0.1)\n",
            "Requirement already satisfied: pandas>=0.16.2 in /usr/local/lib/python3.7/dist-packages (from pylogit) (1.3.5)\n",
            "Requirement already satisfied: future>=0.16 in /usr/local/lib/python3.7/dist-packages (from pylogit) (0.16.0)\n",
            "Requirement already satisfied: statsmodels>=0.6.1 in /usr/local/lib/python3.7/dist-packages (from pylogit) (0.12.2)\n",
            "Requirement already satisfied: numpy>=1.10.2 in /usr/local/lib/python3.7/dist-packages (from pylogit) (1.21.6)\n",
            "Requirement already satisfied: tqdm>=4.15.0 in /usr/local/lib/python3.7/dist-packages (from pylogit) (4.64.1)\n",
            "Requirement already satisfied: scipy>=0.16.1 in /usr/local/lib/python3.7/dist-packages (from pylogit) (1.7.3)\n",
            "Requirement already satisfied: python-dateutil>=2.7.3 in /usr/local/lib/python3.7/dist-packages (from pandas>=0.16.2->pylogit) (2.8.2)\n",
            "Requirement already satisfied: pytz>=2017.3 in /usr/local/lib/python3.7/dist-packages (from pandas>=0.16.2->pylogit) (2022.5)\n",
            "Requirement already satisfied: six>=1.5 in /usr/local/lib/python3.7/dist-packages (from python-dateutil>=2.7.3->pandas>=0.16.2->pylogit) (1.15.0)\n",
            "Requirement already satisfied: patsy>=0.5 in /usr/local/lib/python3.7/dist-packages (from statsmodels>=0.6.1->pylogit) (0.5.3)\n"
          ]
        }
      ],
      "source": [
        "# 1 import packages and data\n",
        "!pip install pylogit\n",
        "import pandas as pd\n",
        "import numpy as np\n",
        "\n",
        "# regression package\n",
        "import pylogit as pl\n",
        "from collections import OrderedDict\n",
        "\n",
        "travel = pd.read_excel('TravelModeAnalysisFinal.xlsx',sheet_name=\"Data\",)"
      ]
    },
    {
      "cell_type": "code",
      "source": [
        "# 2 Data preprocessing\n",
        "travel_long = pd.wide_to_long(travel,stubnames=[\"Time\",\"Invc\",\"Invt\"], i=\"Id\",sep=\".\",j=\"alternative\",suffix=r'\\w+').reset_index()\n",
        "mapping= {\"car\":0,\"train\":1,\"air\":2,\"bus\":3}\n",
        "travel_long['choice_col']=(travel_long[\"alternative\"]==travel_long['Choice'])*1\n",
        "travel_long['alt_id']=travel_long['alternative'].replace(mapping)\n",
        "travel_long = travel_long.sort_values(by=[\"Id\",\"alt_id\"],ascending=True)  \n",
        "  #normalizing\n",
        "travel_long[\"Time\"]=travel_long[\"Time\"]/100\n",
        "travel_long[\"Invc\"]=travel_long[\"Invc\"]/100\n",
        "travel_long[\"Invt\"]=travel_long[\"Invt\"]/100\n",
        "travel_long[\"Hinc\"]=travel_long[\"Hinc\"]/100\n"
      ],
      "metadata": {
        "id": "Q6JU5TSEB5fv"
      },
      "execution_count": 6,
      "outputs": []
    },
    {
      "cell_type": "code",
      "source": [
        "# 3 Model1 formatting\n",
        "model_1_spec = OrderedDict()\n",
        "model_1_names = OrderedDict()\n",
        "\n",
        "model_1_spec[\"Time\"] = \"all_same\"\n",
        "model_1_names[\"Time\"] = \"Time\"\n",
        "\n",
        "model_1_spec[\"Invc\"] = \"all_same\"\n",
        "model_1_names[\"Invc\"] = \"Invc\"\n",
        "\n",
        "model_1_spec[\"Invt\"] = \"all_same\"\n",
        "model_1_names[\"Invt\"] = \"Invt\"\n",
        "\n",
        "model_1_spec[\"intercept\"] = [0,1,3]\n",
        "model_1_names[\"intercept\"] = [\"ASC: {}\".format(x) for x in [\"car\",\"train\",\"bus\"]]\n",
        "\n",
        "# feeding the model\n",
        "model_1 = pl.create_choice_model(data=travel_long,alt_id_col=\"alt_id\",\n",
        "                                 obs_id_col=\"Id\",choice_col=\"choice_col\",\n",
        "                                 specification=model_1_spec,model_type=\"MNL\",\n",
        "                                 names=model_1_names)\n",
        "model_1.fit_mle(np.zeros(6), method='newton-cg') # initial values = zeros\n",
        "\n",
        "# Look at the estimation summaries\n",
        "model_1.get_statsmodels_summary()"
      ],
      "metadata": {
        "colab": {
          "base_uri": "https://localhost:8080/",
          "height": 465
        },
        "id": "PEebULElAumz",
        "outputId": "8b950188-5b1d-4bcb-feca-cbce7b4466f5"
      },
      "execution_count": 7,
      "outputs": [
        {
          "output_type": "stream",
          "name": "stdout",
          "text": [
            "Log-likelihood at zero: -291.1218\n",
            "Initial Log-likelihood: -291.1218\n",
            "Estimation Time for Point Estimation: 0.07 seconds.\n",
            "Final log-likelihood: -192.8885\n"
          ]
        },
        {
          "output_type": "stream",
          "name": "stderr",
          "text": [
            "/usr/local/lib/python3.7/dist-packages/pylogit/estimation.py:686: OptimizeWarning: Unknown solver options: gtol\n",
            "  **kwargs)\n"
          ]
        },
        {
          "output_type": "execute_result",
          "data": {
            "text/plain": [
              "<class 'statsmodels.iolib.summary.Summary'>\n",
              "\"\"\"\n",
              "                     Multinomial Logit Model Regression Results                    \n",
              "===================================================================================\n",
              "Dep. Variable:                  choice_col   No. Observations:                  210\n",
              "Model:             Multinomial Logit Model   Df Residuals:                      204\n",
              "Method:                                MLE   Df Model:                            6\n",
              "Date:                     Mon, 31 Oct 2022   Pseudo R-squ.:                   0.337\n",
              "Time:                             17:23:05   Pseudo R-bar-squ.:               0.317\n",
              "AIC:                               397.777   Log-Likelihood:               -192.889\n",
              "BIC:                               417.860   LL-Null:                      -291.122\n",
              "==============================================================================\n",
              "                 coef    std err          z      P>|z|      [0.025      0.975]\n",
              "------------------------------------------------------------------------------\n",
              "Time          -9.6887      1.034     -9.368      0.000     -11.716      -7.662\n",
              "Invc          -1.3912      0.665     -2.092      0.036      -2.695      -0.088\n",
              "Invt          -0.3995      0.085     -4.704      0.000      -0.566      -0.233\n",
              "ASC: car      -4.7399      0.868     -5.464      0.000      -6.440      -3.040\n",
              "ASC: train    -0.7867      0.603     -1.305      0.192      -1.968       0.394\n",
              "ASC: bus      -1.4336      0.681     -2.106      0.035      -2.768      -0.099\n",
              "==============================================================================\n",
              "\"\"\""
            ],
            "text/html": [
              "<table class=\"simpletable\">\n",
              "<caption>Multinomial Logit Model Regression Results</caption>\n",
              "<tr>\n",
              "  <th>Dep. Variable:</th>       <td>choice_col</td>        <th>  No. Observations:  </th>    <td>210</td>  \n",
              "</tr>\n",
              "<tr>\n",
              "  <th>Model:</th>         <td>Multinomial Logit Model</td> <th>  Df Residuals:      </th>    <td>204</td>  \n",
              "</tr>\n",
              "<tr>\n",
              "  <th>Method:</th>                  <td>MLE</td>           <th>  Df Model:          </th>     <td>6</td>   \n",
              "</tr>\n",
              "<tr>\n",
              "  <th>Date:</th>             <td>Mon, 31 Oct 2022</td>     <th>  Pseudo R-squ.:     </th>   <td>0.337</td> \n",
              "</tr>\n",
              "<tr>\n",
              "  <th>Time:</th>                 <td>17:23:05</td>         <th>  Pseudo R-bar-squ.: </th>   <td>0.317</td> \n",
              "</tr>\n",
              "<tr>\n",
              "  <th>AIC:</th>                   <td>397.777</td>         <th>  Log-Likelihood:    </th> <td>-192.889</td>\n",
              "</tr>\n",
              "<tr>\n",
              "  <th>BIC:</th>                   <td>417.860</td>         <th>  LL-Null:           </th> <td>-291.122</td>\n",
              "</tr>\n",
              "</table>\n",
              "<table class=\"simpletable\">\n",
              "<tr>\n",
              "       <td></td>         <th>coef</th>     <th>std err</th>      <th>z</th>      <th>P>|z|</th>  <th>[0.025</th>    <th>0.975]</th>  \n",
              "</tr>\n",
              "<tr>\n",
              "  <th>Time</th>       <td>   -9.6887</td> <td>    1.034</td> <td>   -9.368</td> <td> 0.000</td> <td>  -11.716</td> <td>   -7.662</td>\n",
              "</tr>\n",
              "<tr>\n",
              "  <th>Invc</th>       <td>   -1.3912</td> <td>    0.665</td> <td>   -2.092</td> <td> 0.036</td> <td>   -2.695</td> <td>   -0.088</td>\n",
              "</tr>\n",
              "<tr>\n",
              "  <th>Invt</th>       <td>   -0.3995</td> <td>    0.085</td> <td>   -4.704</td> <td> 0.000</td> <td>   -0.566</td> <td>   -0.233</td>\n",
              "</tr>\n",
              "<tr>\n",
              "  <th>ASC: car</th>   <td>   -4.7399</td> <td>    0.868</td> <td>   -5.464</td> <td> 0.000</td> <td>   -6.440</td> <td>   -3.040</td>\n",
              "</tr>\n",
              "<tr>\n",
              "  <th>ASC: train</th> <td>   -0.7867</td> <td>    0.603</td> <td>   -1.305</td> <td> 0.192</td> <td>   -1.968</td> <td>    0.394</td>\n",
              "</tr>\n",
              "<tr>\n",
              "  <th>ASC: bus</th>   <td>   -1.4336</td> <td>    0.681</td> <td>   -2.106</td> <td> 0.035</td> <td>   -2.768</td> <td>   -0.099</td>\n",
              "</tr>\n",
              "</table>"
            ]
          },
          "metadata": {},
          "execution_count": 7
        }
      ]
    },
    {
      "cell_type": "code",
      "source": [
        "# 3 Model2 formatting\n",
        "model_2_spec = OrderedDict()\n",
        "model_2_names = OrderedDict()\n",
        "\n",
        "model_2_spec[\"Time\"] = \"all_same\"\n",
        "model_2_names[\"Time\"] = \"Time\"\n",
        "\n",
        "model_2_spec[\"Invc\"] = \"all_same\"\n",
        "model_2_names[\"Invc\"] = \"Invc\"\n",
        "\n",
        "model_2_spec[\"Invt\"] = \"all_same\"\n",
        "model_2_names[\"Invt\"] = \"Invt\"\n",
        "\n",
        "model_2_spec[\"Hinc\"] = [0,1,3]\n",
        "model_2_names[\"Hinc\"] = [f\"Hinc_{x}\"for x in [\"car\",\"train\",\"bus\"]]\n",
        "\n",
        "model_2_spec[\"intercept\"] = [0,1,3]\n",
        "model_2_names[\"intercept\"] = [\"ASC: {}\".format(x) \n",
        "                              for x in [\"car\",\"train\",\"bus\"]]\n",
        "\n",
        "# feeding the model2\n",
        "model_2 = pl.create_choice_model(data=travel_long,\n",
        "                                 alt_id_col=\"alt_id\",\n",
        "                                 obs_id_col=\"Id\",\n",
        "                                 choice_col=\"choice_col\",\n",
        "                                 specification=model_2_spec,\n",
        "                                 model_type=\"MNL\",\n",
        "                                 names=model_2_names)\n",
        "model_2.fit_mle(np.zeros(9), method='newton-cg')\n",
        "\n",
        "# Look at the estimation summaries\n",
        "model_2.get_statsmodels_summary()"
      ],
      "metadata": {
        "colab": {
          "base_uri": "https://localhost:8080/",
          "height": 473
        },
        "id": "_0FdqhCjCzD0",
        "outputId": "dcb22c58-4ed0-4ae7-d20b-775f54c28c26"
      },
      "execution_count": 8,
      "outputs": [
        {
          "output_type": "stream",
          "name": "stdout",
          "text": [
            "Log-likelihood at zero: -291.1218\n",
            "Initial Log-likelihood: -291.1218\n",
            "Estimation Time for Point Estimation: 0.09 seconds.\n",
            "Final log-likelihood: -182.2186\n"
          ]
        },
        {
          "output_type": "execute_result",
          "data": {
            "text/plain": [
              "<class 'statsmodels.iolib.summary.Summary'>\n",
              "\"\"\"\n",
              "                     Multinomial Logit Model Regression Results                    \n",
              "===================================================================================\n",
              "Dep. Variable:                  choice_col   No. Observations:                  210\n",
              "Model:             Multinomial Logit Model   Df Residuals:                      201\n",
              "Method:                                MLE   Df Model:                            9\n",
              "Date:                     Mon, 31 Oct 2022   Pseudo R-squ.:                   0.374\n",
              "Time:                             17:23:09   Pseudo R-bar-squ.:               0.343\n",
              "AIC:                               382.437   Log-Likelihood:               -182.219\n",
              "BIC:                               412.561   LL-Null:                      -291.122\n",
              "==============================================================================\n",
              "                 coef    std err          z      P>|z|      [0.025      0.975]\n",
              "------------------------------------------------------------------------------\n",
              "Time          -9.5284      1.036     -9.202      0.000     -11.558      -7.499\n",
              "Invc          -0.4499      0.721     -0.624      0.533      -1.863       0.963\n",
              "Invt          -0.3665      0.087     -4.222      0.000      -0.537      -0.196\n",
              "Hinc_car       0.2103      1.210      0.174      0.862      -2.160       2.581\n",
              "Hinc_train    -5.5895      1.536     -3.640      0.000      -8.599      -2.580\n",
              "Hinc_bus      -2.3111      1.646     -1.404      0.160      -5.537       0.914\n",
              "ASC: car      -4.2474      1.007     -4.220      0.000      -6.220      -2.275\n",
              "ASC: train     1.2421      0.817      1.521      0.128      -0.359       2.843\n",
              "ASC: bus      -0.1844      0.897     -0.206      0.837      -1.942       1.573\n",
              "==============================================================================\n",
              "\"\"\""
            ],
            "text/html": [
              "<table class=\"simpletable\">\n",
              "<caption>Multinomial Logit Model Regression Results</caption>\n",
              "<tr>\n",
              "  <th>Dep. Variable:</th>       <td>choice_col</td>        <th>  No. Observations:  </th>    <td>210</td>  \n",
              "</tr>\n",
              "<tr>\n",
              "  <th>Model:</th>         <td>Multinomial Logit Model</td> <th>  Df Residuals:      </th>    <td>201</td>  \n",
              "</tr>\n",
              "<tr>\n",
              "  <th>Method:</th>                  <td>MLE</td>           <th>  Df Model:          </th>     <td>9</td>   \n",
              "</tr>\n",
              "<tr>\n",
              "  <th>Date:</th>             <td>Mon, 31 Oct 2022</td>     <th>  Pseudo R-squ.:     </th>   <td>0.374</td> \n",
              "</tr>\n",
              "<tr>\n",
              "  <th>Time:</th>                 <td>17:23:09</td>         <th>  Pseudo R-bar-squ.: </th>   <td>0.343</td> \n",
              "</tr>\n",
              "<tr>\n",
              "  <th>AIC:</th>                   <td>382.437</td>         <th>  Log-Likelihood:    </th> <td>-182.219</td>\n",
              "</tr>\n",
              "<tr>\n",
              "  <th>BIC:</th>                   <td>412.561</td>         <th>  LL-Null:           </th> <td>-291.122</td>\n",
              "</tr>\n",
              "</table>\n",
              "<table class=\"simpletable\">\n",
              "<tr>\n",
              "       <td></td>         <th>coef</th>     <th>std err</th>      <th>z</th>      <th>P>|z|</th>  <th>[0.025</th>    <th>0.975]</th>  \n",
              "</tr>\n",
              "<tr>\n",
              "  <th>Time</th>       <td>   -9.5284</td> <td>    1.036</td> <td>   -9.202</td> <td> 0.000</td> <td>  -11.558</td> <td>   -7.499</td>\n",
              "</tr>\n",
              "<tr>\n",
              "  <th>Invc</th>       <td>   -0.4499</td> <td>    0.721</td> <td>   -0.624</td> <td> 0.533</td> <td>   -1.863</td> <td>    0.963</td>\n",
              "</tr>\n",
              "<tr>\n",
              "  <th>Invt</th>       <td>   -0.3665</td> <td>    0.087</td> <td>   -4.222</td> <td> 0.000</td> <td>   -0.537</td> <td>   -0.196</td>\n",
              "</tr>\n",
              "<tr>\n",
              "  <th>Hinc_car</th>   <td>    0.2103</td> <td>    1.210</td> <td>    0.174</td> <td> 0.862</td> <td>   -2.160</td> <td>    2.581</td>\n",
              "</tr>\n",
              "<tr>\n",
              "  <th>Hinc_train</th> <td>   -5.5895</td> <td>    1.536</td> <td>   -3.640</td> <td> 0.000</td> <td>   -8.599</td> <td>   -2.580</td>\n",
              "</tr>\n",
              "<tr>\n",
              "  <th>Hinc_bus</th>   <td>   -2.3111</td> <td>    1.646</td> <td>   -1.404</td> <td> 0.160</td> <td>   -5.537</td> <td>    0.914</td>\n",
              "</tr>\n",
              "<tr>\n",
              "  <th>ASC: car</th>   <td>   -4.2474</td> <td>    1.007</td> <td>   -4.220</td> <td> 0.000</td> <td>   -6.220</td> <td>   -2.275</td>\n",
              "</tr>\n",
              "<tr>\n",
              "  <th>ASC: train</th> <td>    1.2421</td> <td>    0.817</td> <td>    1.521</td> <td> 0.128</td> <td>   -0.359</td> <td>    2.843</td>\n",
              "</tr>\n",
              "<tr>\n",
              "  <th>ASC: bus</th>   <td>   -0.1844</td> <td>    0.897</td> <td>   -0.206</td> <td> 0.837</td> <td>   -1.942</td> <td>    1.573</td>\n",
              "</tr>\n",
              "</table>"
            ]
          },
          "metadata": {},
          "execution_count": 8
        }
      ]
    },
    {
      "cell_type": "code",
      "source": [],
      "metadata": {
        "id": "I3QAW0ctDTX6"
      },
      "execution_count": null,
      "outputs": []
    }
  ]
}
