{
 "cells": [
  {
   "cell_type": "code",
   "execution_count": 1,
   "id": "f60d28e1",
   "metadata": {},
   "outputs": [
    {
     "name": "stdout",
     "output_type": "stream",
     "text": [
      "*** Introductory Examples for the NLTK Book ***\n",
      "Loading text1, ..., text9 and sent1, ..., sent9\n",
      "Type the name of the text or sentence to view it.\n",
      "Type: 'texts()' or 'sents()' to list the materials.\n",
      "text1: Moby Dick by Herman Melville 1851\n",
      "text2: Sense and Sensibility by Jane Austen 1811\n",
      "text3: The Book of Genesis\n",
      "text4: Inaugural Address Corpus\n",
      "text5: Chat Corpus\n",
      "text6: Monty Python and the Holy Grail\n",
      "text7: Wall Street Journal\n",
      "text8: Personals Corpus\n",
      "text9: The Man Who Was Thursday by G . K . Chesterton 1908\n"
     ]
    }
   ],
   "source": [
    "from nltk.book import *"
   ]
  },
  {
   "cell_type": "markdown",
   "id": "33a6024b",
   "metadata": {},
   "source": [
    "### Text Summarization\n",
    "---"
   ]
  },
  {
   "cell_type": "markdown",
   "id": "439fa4d8",
   "metadata": {},
   "source": [
    "Text summarization typically selects important senteces and reports them as a summary\n",
    "#### Text Summarization (naive)"
   ]
  },
  {
   "cell_type": "code",
   "execution_count": 2,
   "id": "35c999f1",
   "metadata": {},
   "outputs": [],
   "source": [
    "def build_naive_summary(text):\n",
    "    \n",
    "    # import files\n",
    "    from nltk.tokenize import word_tokenize\n",
    "    from nltk.tokenize import sent_tokenize\n",
    "    from nltk.probability import FreqDist\n",
    "    from nltk.corpus import stopwords\n",
    "    from collections import OrderedDict\n",
    "    \n",
    "    # pre-process the text\n",
    "    summary_sentences = []\n",
    "    candidate_sentences = {}\n",
    "    candidate_sentence_counts = {}\n",
    "    striptext = text.replace('\\n\\n', ' ')\n",
    "    striptext = striptext.replace('\\n', ' ')\n",
    "    words = word_tokenize(striptext)\n",
    "    lowercase_words = [word.lower() for word in words\n",
    "                      if word not in stopwords.words() and word.isalpha()]\n",
    "    word_frequencies = FreqDist(lowercase_words)\n",
    "    most_frequent_words = FreqDist(lowercase_words).most_common(20)\n",
    "    \n",
    "    # sentence level\n",
    "    sentences = sent_tokenize(striptext)\n",
    "    for sentence in sentences:\n",
    "        candidate_sentences[sentence] = sentence.lower()\n",
    "    for long, short in candidate_sentences.items():\n",
    "        count = 0\n",
    "        for freq_word, frequency_score in most_frequent_words:\n",
    "            if freq_word in short:\n",
    "                count += frequency_score\n",
    "                candidate_sentence_counts[long] = count   \n",
    "    \n",
    "    # pick the top sentence\n",
    "    sorted_sentences = OrderedDict(sorted(\n",
    "                        candidate_sentence_counts.items(),\n",
    "                        key = lambda x: x[1],\n",
    "                        reverse = True)[:4])\n",
    "    return sorted_sentences   "
   ]
  },
  {
   "cell_type": "code",
   "execution_count": 18,
   "id": "f4ce4f24",
   "metadata": {},
   "outputs": [
    {
     "name": "stdout",
     "output_type": "stream",
     "text": [
      "A young man and a young woman were sitting behind me.\n",
      "They were talking loudly.\n",
      "I looked at the man and the woman angrily.\n",
      " Last week I went to the theatre.\n"
     ]
    }
   ],
   "source": [
    "text = '''\n",
    "Last week I went to the theatre. I had a very good seat. The play was very interesting. I did not enjoy it. A young man and a young woman were sitting behind me. They were talking loudly. I got very angry. I could not hear the actors. I turned round. I looked at the man and the woman angrily. They did not pay any attention. In the end, I could not bear it. I turned round again. 'I can't hear a word!' I said angrily.\n",
    "'It's none of your business,' the young man said rudely. 'This is a private conversation!'\n",
    "'''\n",
    "\n",
    "summary = '\\n'.join(build_naive_summary(text))\n",
    "print(summary)"
   ]
  },
  {
   "cell_type": "markdown",
   "id": "94bc9912",
   "metadata": {},
   "source": [
    "#### Text Summarization (genism)"
   ]
  },
  {
   "cell_type": "code",
   "execution_count": 13,
   "id": "84ede19a",
   "metadata": {},
   "outputs": [
    {
     "name": "stdout",
     "output_type": "stream",
     "text": [
      "I looked at the man and the woman angrily.\n"
     ]
    }
   ],
   "source": [
    "# install and import packages\n",
    "# !pip install gensim\n",
    "# !pip freeze \n",
    "# !python -V\n",
    "from wordcloud import WordCloud, STOPWORDS\n",
    "from nltk.corpus import PlaintextCorpusReader\n",
    "from nltk import sent_tokenize,word_tokenize \n",
    "from nltk.book import *\n",
    "import gensim.summarization\n",
    "\n",
    "# initialize variables and clean data\n",
    "text = '''\n",
    "Last week I went to the theatre. I had a very good seat. The play was very interesting. I did not enjoy it. A young man and a young woman were sitting behind me. They were talking loudly. I got very angry. I could not hear the actors. I turned round. I looked at the man and the woman angrily. They did not pay any attention. In the end, I could not bear it. I turned round again. 'I can't hear a word!' I said angrily.\n",
    "'It's none of your business,' the young man said rudely. 'This is a private conversation!'\n",
    "'''\n",
    "summary_sentences = []\n",
    "candidate_sentences = {}\n",
    "candidate_sentence_counts = {}\n",
    "striptext = text.replace('\\n\\n', ' ')\n",
    "striptext = striptext.replace('\\n', ' ')\n",
    "\n",
    "# feed the model\n",
    "summary = gensim.summarization.summarize(striptext, word_count=10) \n",
    "print(summary)"
   ]
  },
  {
   "cell_type": "markdown",
   "id": "39290093",
   "metadata": {},
   "source": [
    "### Topic Modeling"
   ]
  },
  {
   "cell_type": "markdown",
   "id": "9df3a922",
   "metadata": {},
   "source": [
    "#### LDA: Latent Dirichlet Allocation Model"
   ]
  },
  {
   "cell_type": "code",
   "execution_count": null,
   "id": "35764e17",
   "metadata": {},
   "outputs": [],
   "source": [
    "# import packages\n",
    "from gensim import corpora\n",
    "from gensim.models.ldamodel import LdaModel\n",
    "from gensim.parsing.preprocessing import STOPWORDS\n",
    "import pprint\n",
    "\n",
    "# grab some texts\n",
    "import requests\n",
    "from bs4 import BeautifulSoup\n",
    "url=\"https://www.slate.com\"\n",
    "page = requests.get(url)\n",
    "bs_page = BeautifulSoup(page.content,'lxml')\n",
    "all_links = bs_page.find_all('a')\n",
    "categories = ['news_and_politics','news-and-politics']\n",
    "followable_links = list()\n",
    "for link in all_links:\n",
    "    href = link.get('href')\n",
    "    if href:\n",
    "        for cat in categories:\n",
    "            if cat in href:\n",
    "                followable_links.append(href)\n",
    "story_list = list()\n",
    "count=0\n",
    "for link in followable_links:\n",
    "    try:\n",
    "        page=BeautifulSoup(requests.get(link).content,'lxml')\n",
    "        text=page.find('body').find('section',class_='article__body').get_text().strip()\n",
    "        story_list.append(text)\n",
    "        count+=1\n",
    "    except:\n",
    "        continue\n",
    "\n",
    "# pre-process the text\n",
    "for i in range(len(story_list)):\n",
    "    story = story_list[i]\n",
    "    sents = sent_tokenize(story)\n",
    "    for j in range(len(sents)):\n",
    "        sent = sents[j]\n",
    "        sent = sent.strip().replace('\\n','')\n",
    "        sents[j] = sent\n",
    "    story_list[i] = '. '.join(sents)"
   ]
  },
  {
   "cell_type": "code",
   "execution_count": 17,
   "id": "8831d0eb",
   "metadata": {},
   "outputs": [
    {
     "ename": "NameError",
     "evalue": "name 'html' is not defined",
     "output_type": "error",
     "traceback": [
      "\u001b[0;31m---------------------------------------------------------------------------\u001b[0m",
      "\u001b[0;31mNameError\u001b[0m                                 Traceback (most recent call last)",
      "Cell \u001b[0;32mIn [17], line 1\u001b[0m\n\u001b[0;32m----> 1\u001b[0m soup \u001b[38;5;241m=\u001b[39m BeautifulSoup(\u001b[43mhtml\u001b[49m, \u001b[38;5;124m\"\u001b[39m\u001b[38;5;124mlxml\u001b[39m\u001b[38;5;124m\"\u001b[39m)\n",
      "\u001b[0;31mNameError\u001b[0m: name 'html' is not defined"
     ]
    }
   ],
   "source": [
    "soup = BeautifulSoup(html, \"lxml\")"
   ]
  },
  {
   "cell_type": "code",
   "execution_count": null,
   "id": "d3c96848",
   "metadata": {},
   "outputs": [],
   "source": []
  },
  {
   "cell_type": "code",
   "execution_count": null,
   "id": "0a55365b",
   "metadata": {},
   "outputs": [],
   "source": []
  },
  {
   "cell_type": "code",
   "execution_count": null,
   "id": "99bb1a00",
   "metadata": {},
   "outputs": [],
   "source": []
  },
  {
   "cell_type": "code",
   "execution_count": null,
   "id": "fa4f0665",
   "metadata": {},
   "outputs": [],
   "source": []
  }
 ],
 "metadata": {
  "kernelspec": {
   "display_name": "Python 3 (ipykernel)",
   "language": "python",
   "name": "python3"
  },
  "language_info": {
   "codemirror_mode": {
    "name": "ipython",
    "version": 3
   },
   "file_extension": ".py",
   "mimetype": "text/x-python",
   "name": "python",
   "nbconvert_exporter": "python",
   "pygments_lexer": "ipython3",
   "version": "3.10.8"
  }
 },
 "nbformat": 4,
 "nbformat_minor": 5
}
