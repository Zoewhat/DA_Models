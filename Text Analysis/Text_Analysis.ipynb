{
  "nbformat": 4,
  "nbformat_minor": 0,
  "metadata": {
    "colab": {
      "provenance": []
    },
    "kernelspec": {
      "name": "python3",
      "display_name": "Python 3"
    },
    "language_info": {
      "name": "python"
    }
  },
  "cells": [
    {
      "cell_type": "markdown",
      "source": [
        "### <center> Text Analysis</center>\n",
        "1. import packages\n",
        "2. sentiment analysis\n",
        "3. topic modeling"
      ],
      "metadata": {
        "id": "cRG5BZ-SzsI2"
      }
    },
    {
      "cell_type": "code",
      "execution_count": 2,
      "metadata": {
        "colab": {
          "base_uri": "https://localhost:8080/"
        },
        "id": "fVmHL4uYzB3U",
        "outputId": "b17cc877-3ab6-4e36-e94c-7ab87d8267f3"
      },
      "outputs": [
        {
          "output_type": "stream",
          "name": "stderr",
          "text": [
            "[nltk_data] Downloading package punkt to /root/nltk_data...\n",
            "[nltk_data]   Package punkt is already up-to-date!\n",
            "[nltk_data] Downloading package stopwords to /root/nltk_data...\n",
            "[nltk_data]   Package stopwords is already up-to-date!\n",
            "[nltk_data] Downloading package wordnet to /root/nltk_data...\n",
            "[nltk_data]   Package wordnet is already up-to-date!\n"
          ]
        }
      ],
      "source": [
        "import pandas as pd\n",
        "import numpy as np\n",
        "import matplotlib.pyplot as plt\n",
        "\n",
        "# sentiment analysis packages\n",
        "import re\n",
        "import nltk\n",
        "nltk.download('punkt')\n",
        "from nltk.tokenize import word_tokenize\n",
        "from nltk import pos_tag\n",
        "nltk.download('stopwords')\n",
        "from nltk.corpus import stopwords\n",
        "nltk.download('wordnet')\n",
        "from nltk.corpus import wordnet\n",
        "from nltk.stem import PorterStemmer\n",
        "from textblob import TextBlob\n",
        "\n",
        "# topic modeling packages\n",
        "import gensim\n",
        "from gensim import corpora\n",
        "\n",
        "reviews_sample = pd.read_csv('product_reviews.csv')[['Rating','Content']]\n",
        "\n"
      ]
    },
    {
      "cell_type": "markdown",
      "source": [
        "#### <center>Sentiment Analysis</center>"
      ],
      "metadata": {
        "id": "VwoX5jVPz7qd"
      }
    },
    {
      "cell_type": "code",
      "source": [
        "# 1.1 test preprocessing\n",
        "\n",
        "# remove punctuation and numbers, lower case the text\n",
        "def clean(text):\n",
        "    text = re.sub('[^A-Za-z]+', ' ', text) # remove non-letters\n",
        "    text = text.lower()\n",
        "    return text\n",
        "\n",
        "reviews_sample['Cleaned Reviews'] = reviews_sample['Content'].apply(clean)\n",
        "\n",
        "# select the reviews we care about\n",
        "reviews_sample = reviews_sample[reviews_sample['Cleaned Reviews'].str.contains('kindle')]\n",
        "\n",
        "# tokenize, remove stop words, stem\n",
        "ps = PorterStemmer() \n",
        "def token_stop_stem(text):\n",
        "    tokens = word_tokenize(text) # tokenize the text\n",
        "    newlist = []\n",
        "    new_review = \"\"\n",
        "    for word in tokens:\n",
        "        if word not in set(stopwords.words('english')): # remove stop words\n",
        "            word_stem = ps.stem(word) # stem each word\n",
        "            newlist.append(word_stem)\n",
        "            new_review = new_review + \" \" + word_stem\n",
        "    return new_review\n",
        "\n",
        "reviews_sample['Final Reviews'] = reviews_sample['Cleaned Reviews'].apply(token_stop_stem)\n",
        "reviews_sample.head(2)\n"
      ],
      "metadata": {
        "colab": {
          "base_uri": "https://localhost:8080/",
          "height": 112
        },
        "id": "41BaNeR0zDYU",
        "outputId": "49f20526-bc4f-4a16-d902-3df29786774f"
      },
      "execution_count": 3,
      "outputs": [
        {
          "output_type": "execute_result",
          "data": {
            "text/plain": [
              "   Rating                                            Content  \\\n",
              "1       2  The operating system is is an early android. Y...   \n",
              "2       2  I have been reading on Kindle since the Kindle...   \n",
              "\n",
              "                                     Cleaned Reviews  \\\n",
              "1  the operating system is is an early android yo...   \n",
              "2  i have been reading on kindle since the kindle...   \n",
              "\n",
              "                                       Final Reviews  \n",
              "1   oper system earli android cant use download k...  \n",
              "2   read kindl sinc kindl releas pretti heavili i...  "
            ],
            "text/html": [
              "\n",
              "  <div id=\"df-671c4955-125e-4fb4-8d7d-6c341bd8eb4c\">\n",
              "    <div class=\"colab-df-container\">\n",
              "      <div>\n",
              "<style scoped>\n",
              "    .dataframe tbody tr th:only-of-type {\n",
              "        vertical-align: middle;\n",
              "    }\n",
              "\n",
              "    .dataframe tbody tr th {\n",
              "        vertical-align: top;\n",
              "    }\n",
              "\n",
              "    .dataframe thead th {\n",
              "        text-align: right;\n",
              "    }\n",
              "</style>\n",
              "<table border=\"1\" class=\"dataframe\">\n",
              "  <thead>\n",
              "    <tr style=\"text-align: right;\">\n",
              "      <th></th>\n",
              "      <th>Rating</th>\n",
              "      <th>Content</th>\n",
              "      <th>Cleaned Reviews</th>\n",
              "      <th>Final Reviews</th>\n",
              "    </tr>\n",
              "  </thead>\n",
              "  <tbody>\n",
              "    <tr>\n",
              "      <th>1</th>\n",
              "      <td>2</td>\n",
              "      <td>The operating system is is an early android. Y...</td>\n",
              "      <td>the operating system is is an early android yo...</td>\n",
              "      <td>oper system earli android cant use download k...</td>\n",
              "    </tr>\n",
              "    <tr>\n",
              "      <th>2</th>\n",
              "      <td>2</td>\n",
              "      <td>I have been reading on Kindle since the Kindle...</td>\n",
              "      <td>i have been reading on kindle since the kindle...</td>\n",
              "      <td>read kindl sinc kindl releas pretti heavili i...</td>\n",
              "    </tr>\n",
              "  </tbody>\n",
              "</table>\n",
              "</div>\n",
              "      <button class=\"colab-df-convert\" onclick=\"convertToInteractive('df-671c4955-125e-4fb4-8d7d-6c341bd8eb4c')\"\n",
              "              title=\"Convert this dataframe to an interactive table.\"\n",
              "              style=\"display:none;\">\n",
              "        \n",
              "  <svg xmlns=\"http://www.w3.org/2000/svg\" height=\"24px\"viewBox=\"0 0 24 24\"\n",
              "       width=\"24px\">\n",
              "    <path d=\"M0 0h24v24H0V0z\" fill=\"none\"/>\n",
              "    <path d=\"M18.56 5.44l.94 2.06.94-2.06 2.06-.94-2.06-.94-.94-2.06-.94 2.06-2.06.94zm-11 1L8.5 8.5l.94-2.06 2.06-.94-2.06-.94L8.5 2.5l-.94 2.06-2.06.94zm10 10l.94 2.06.94-2.06 2.06-.94-2.06-.94-.94-2.06-.94 2.06-2.06.94z\"/><path d=\"M17.41 7.96l-1.37-1.37c-.4-.4-.92-.59-1.43-.59-.52 0-1.04.2-1.43.59L10.3 9.45l-7.72 7.72c-.78.78-.78 2.05 0 2.83L4 21.41c.39.39.9.59 1.41.59.51 0 1.02-.2 1.41-.59l7.78-7.78 2.81-2.81c.8-.78.8-2.07 0-2.86zM5.41 20L4 18.59l7.72-7.72 1.47 1.35L5.41 20z\"/>\n",
              "  </svg>\n",
              "      </button>\n",
              "      \n",
              "  <style>\n",
              "    .colab-df-container {\n",
              "      display:flex;\n",
              "      flex-wrap:wrap;\n",
              "      gap: 12px;\n",
              "    }\n",
              "\n",
              "    .colab-df-convert {\n",
              "      background-color: #E8F0FE;\n",
              "      border: none;\n",
              "      border-radius: 50%;\n",
              "      cursor: pointer;\n",
              "      display: none;\n",
              "      fill: #1967D2;\n",
              "      height: 32px;\n",
              "      padding: 0 0 0 0;\n",
              "      width: 32px;\n",
              "    }\n",
              "\n",
              "    .colab-df-convert:hover {\n",
              "      background-color: #E2EBFA;\n",
              "      box-shadow: 0px 1px 2px rgba(60, 64, 67, 0.3), 0px 1px 3px 1px rgba(60, 64, 67, 0.15);\n",
              "      fill: #174EA6;\n",
              "    }\n",
              "\n",
              "    [theme=dark] .colab-df-convert {\n",
              "      background-color: #3B4455;\n",
              "      fill: #D2E3FC;\n",
              "    }\n",
              "\n",
              "    [theme=dark] .colab-df-convert:hover {\n",
              "      background-color: #434B5C;\n",
              "      box-shadow: 0px 1px 3px 1px rgba(0, 0, 0, 0.15);\n",
              "      filter: drop-shadow(0px 1px 2px rgba(0, 0, 0, 0.3));\n",
              "      fill: #FFFFFF;\n",
              "    }\n",
              "  </style>\n",
              "\n",
              "      <script>\n",
              "        const buttonEl =\n",
              "          document.querySelector('#df-671c4955-125e-4fb4-8d7d-6c341bd8eb4c button.colab-df-convert');\n",
              "        buttonEl.style.display =\n",
              "          google.colab.kernel.accessAllowed ? 'block' : 'none';\n",
              "\n",
              "        async function convertToInteractive(key) {\n",
              "          const element = document.querySelector('#df-671c4955-125e-4fb4-8d7d-6c341bd8eb4c');\n",
              "          const dataTable =\n",
              "            await google.colab.kernel.invokeFunction('convertToInteractive',\n",
              "                                                     [key], {});\n",
              "          if (!dataTable) return;\n",
              "\n",
              "          const docLinkHtml = 'Like what you see? Visit the ' +\n",
              "            '<a target=\"_blank\" href=https://colab.research.google.com/notebooks/data_table.ipynb>data table notebook</a>'\n",
              "            + ' to learn more about interactive tables.';\n",
              "          element.innerHTML = '';\n",
              "          dataTable['output_type'] = 'display_data';\n",
              "          await google.colab.output.renderOutput(dataTable, element);\n",
              "          const docLink = document.createElement('div');\n",
              "          docLink.innerHTML = docLinkHtml;\n",
              "          element.appendChild(docLink);\n",
              "        }\n",
              "      </script>\n",
              "    </div>\n",
              "  </div>\n",
              "  "
            ]
          },
          "metadata": {},
          "execution_count": 3
        }
      ]
    },
    {
      "cell_type": "code",
      "source": [
        "# 1.2 analyzing polarity\n",
        "\n",
        "def getPolarityScore(review):\n",
        "    return TextBlob(review).sentiment.polarity\n",
        "\n",
        "def getPolarity(score):\n",
        "    if score < 0:\n",
        "        return 'Negative'\n",
        "    elif score == 0:\n",
        "        return 'Neutral'\n",
        "    else:\n",
        "        return 'Positive'\n",
        "\n",
        "reviews_sample['Score'] = reviews_sample['Final Reviews'].apply(getPolarityScore) \n",
        "reviews_sample['Polarity'] = reviews_sample['Score'].apply(getPolarity)"
      ],
      "metadata": {
        "id": "W18mvBxDzcr8"
      },
      "execution_count": 4,
      "outputs": []
    },
    {
      "cell_type": "markdown",
      "source": [
        "#### <center>Topic Modeling</center>"
      ],
      "metadata": {
        "id": "SQJlZc3O0IHE"
      }
    },
    {
      "cell_type": "code",
      "source": [
        "# 2.1 preprocessing\n",
        "\n",
        "# tokenize, remove stop words, return tokens\n",
        "def token_stop(text):\n",
        "    tokens = word_tokenize(text) # tokenize the text\n",
        "    newlist = []\n",
        "    for word in tokens:\n",
        "        if word not in set(stopwords.words('english')): # remove stop words\n",
        "            newlist.append(word)\n",
        "    return newlist\n",
        "\n",
        "reviews_sample['LDA Reviews'] = reviews_sample['Cleaned Reviews'].apply(token_stop)"
      ],
      "metadata": {
        "id": "It2cNNYDzoab"
      },
      "execution_count": 5,
      "outputs": []
    },
    {
      "cell_type": "code",
      "source": [
        "# 2.2 feeding the model\n",
        "\n",
        "#generating the bag of words\n",
        "dict_ = corpora.Dictionary(reviews_sample['LDA Reviews']) \n",
        "\n",
        "#map the bag of words to their index\n",
        "doc_term_matrix = [dict_.doc2bow(i) for i in reviews_sample['LDA Reviews']]\n",
        "\n",
        "#applying the model\n",
        "lda = gensim.models.LdaModel\n",
        "lda_model = lda(doc_term_matrix,\n",
        "    num_topics=5,id2word = dict_,iterations=400,passes=20,\n",
        "    eval_every=None,  # don't evaluate model perplexity, takes too much time\n",
        "    random_state=9651\n",
        ")\n",
        "\n",
        "lda_model.print_topics(num_words=5)\n"
      ],
      "metadata": {
        "colab": {
          "base_uri": "https://localhost:8080/"
        },
        "id": "FbZQ97J6zorv",
        "outputId": "5efb6848-1880-4d9b-d5cc-34f2822ecb86"
      },
      "execution_count": 6,
      "outputs": [
        {
          "output_type": "execute_result",
          "data": {
            "text/plain": [
              "[(0,\n",
              "  '0.025*\"screen\" + 0.012*\"kindle\" + 0.012*\"reading\" + 0.012*\"battery\" + 0.011*\"touch\"'),\n",
              " (1,\n",
              "  '0.050*\"kindle\" + 0.046*\"fire\" + 0.017*\"books\" + 0.015*\"love\" + 0.015*\"amazon\"'),\n",
              " (2,\n",
              "  '0.015*\"tablet\" + 0.013*\"android\" + 0.012*\"device\" + 0.012*\"app\" + 0.012*\"apps\"'),\n",
              " (3,\n",
              "  '0.030*\"kindle\" + 0.019*\"fire\" + 0.018*\"amazon\" + 0.011*\"one\" + 0.010*\"get\"'),\n",
              " (4,\n",
              "  '0.067*\"ipad\" + 0.023*\"fire\" + 0.023*\"kindle\" + 0.015*\"great\" + 0.014*\"tablet\"')]"
            ]
          },
          "metadata": {},
          "execution_count": 6
        }
      ]
    },
    {
      "cell_type": "code",
      "source": [],
      "metadata": {
        "id": "VMInzYmHzouz"
      },
      "execution_count": null,
      "outputs": []
    },
    {
      "cell_type": "code",
      "source": [],
      "metadata": {
        "id": "vAK_fASQzoxb"
      },
      "execution_count": null,
      "outputs": []
    }
  ]
}