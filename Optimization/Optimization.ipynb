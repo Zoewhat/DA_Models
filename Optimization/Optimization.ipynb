{
 "cells": [
  {
   "cell_type": "code",
   "execution_count": 80,
   "metadata": {},
   "outputs": [],
   "source": [
    "# import packages\n",
    "import pandas as pd\n",
    "import numpy as np\n",
    "import pulp as pl\n",
    "\n",
    "# import data\n",
    "df_leads = pd.read_excel('GammaSoft data.xlsx', sheet_name='Leads').set_index('LeadID')\n",
    "df_reps = pd.read_excel('GammaSoft data.xlsx', sheet_name='Reps').set_index('RepID')\n",
    "df_interactions = pd.read_excel('GammaSoft data.xlsx',\n",
    "                                  sheet_name='Past interactions',\n",
    "                                  skiprows=1).set_index('RepID')\n",
    "\n",
    "# revenue data\n",
    "revenues = np.zeros((len(df_reps), len(df_leads)))\n",
    "# Logistic regression coefficients\n",
    "const    = -3.07\n",
    "ext      = -0.18\n",
    "past_use = 0.05\n",
    "ser      = 0.42\n",
    "f2f      = 0.17\n",
    "for rep in df_reps.index:\n",
    "    for lead in df_leads.index:\n",
    "        w = ( const + ext*df_leads.loc[lead, 'EXT']\n",
    "                         + past_use*df_leads.loc[lead, 'PAST_USE']\n",
    "                         + ser*df_reps.loc[rep, 'SER']\n",
    "                         + f2f*df_interactions.loc[rep, lead] ) \n",
    "        prob = 1/(1+np.exp(-w))\n",
    "        revenues[rep,lead] = prob * df_leads.loc[lead, 'Size'] * 50"
   ]
  },
  {
   "cell_type": "code",
   "execution_count": 81,
   "metadata": {},
   "outputs": [
    {
     "data": {
      "text/plain": [
       "['PULP_CBC_CMD']"
      ]
     },
     "execution_count": 81,
     "metadata": {},
     "output_type": "execute_result"
    }
   ],
   "source": [
    "# created model\n",
    "m = pl.LpProblem('XGen', pl.LpMaximize) # unbonded and infeasibly here won't work\n",
    "\n",
    "# Create variables\n",
    "x = []\n",
    "for i in df_reps.index:\n",
    "    x.append([])\n",
    "    \n",
    "    for j in df_leads.index:\n",
    "        x[i].append( pl.LpVariable(f'x_{i}_{j}', cat='Binary') )\n",
    "x = np.array(x)\n",
    "\n",
    "# Create the constraints\n",
    "for j in df_leads.index:\n",
    "    m += (pl.lpSum(x[:, j]) <= 1, f'lead_{j}_constraint')\n",
    "for i in df_reps.index:\n",
    "    m += (pl.lpSum(x[i, :]) <= df_reps.loc[i, 'Capacity'], f'rep_{i}_constraint')\n",
    "    \n",
    "# Create the objective\n",
    "m += pl.lpSum(revenues*x)\n",
    "\n",
    "# check what solver is avaliable\n",
    "pl.list_solvers(onlyAvailable=True)"
   ]
  },
  {
   "cell_type": "code",
   "execution_count": 83,
   "metadata": {},
   "outputs": [
    {
     "name": "stdout",
     "output_type": "stream",
     "text": [
      "Welcome to the CBC MILP Solver \n",
      "Version: 2.10.3 \n",
      "Build Date: Dec 15 2019 \n",
      "\n",
      "command line - /opt/anaconda3/lib/python3.9/site-packages/pulp/solverdir/cbc/osx/64/cbc /var/folders/pt/ndbvf_yd23x24b9j52ckl0600000gn/T/6660c48fd5434cf09283117b5119ac8d-pulp.mps max timeMode elapsed branch printingOptions all solution /var/folders/pt/ndbvf_yd23x24b9j52ckl0600000gn/T/6660c48fd5434cf09283117b5119ac8d-pulp.sol (default strategy 1)\n",
      "At line 2 NAME          MODEL\n",
      "At line 3 ROWS\n",
      "At line 30 COLUMNS\n",
      "At line 531 RHS\n",
      "At line 557 BOUNDS\n",
      "At line 658 ENDATA\n",
      "Problem MODEL has 25 rows, 100 columns and 200 elements\n",
      "Coin0008I MODEL read with 0 errors\n",
      "Option for timeMode changed from cpu to elapsed\n",
      "Continuous objective value is 110035 - 0.00 seconds\n",
      "Cgl0008I 20 inequality constraints converted to equality constraints\n",
      "Cgl0005I 20 SOS with 120 members\n",
      "Cgl0004I processed model has 25 rows, 120 columns (120 integer (120 of which binary)) and 220 elements\n",
      "Cbc0038I Initial state - 0 integers unsatisfied sum - 0\n",
      "Cbc0038I Solution found of -110035\n",
      "Cbc0038I Before mini branch and bound, 100 integers at bound fixed and 20 continuous\n",
      "Cbc0038I Mini branch and bound did not improve solution (0.00 seconds)\n",
      "Cbc0038I After 0.00 seconds - Feasibility pump exiting with objective of -110035 - took 0.00 seconds\n",
      "Cbc0012I Integer solution of -110034.97 found by feasibility pump after 0 iterations and 0 nodes (0.00 seconds)\n",
      "Cbc0001I Search completed - best objective -110034.974893098, took 0 iterations and 0 nodes (0.00 seconds)\n",
      "Cbc0035I Maximum depth 0, 0 variables fixed on reduced cost\n",
      "Cuts at root node changed objective from -110035 to -110035\n",
      "Probing was tried 0 times and created 0 cuts of which 0 were active after adding rounds of cuts (0.000 seconds)\n",
      "Gomory was tried 0 times and created 0 cuts of which 0 were active after adding rounds of cuts (0.000 seconds)\n",
      "Knapsack was tried 0 times and created 0 cuts of which 0 were active after adding rounds of cuts (0.000 seconds)\n",
      "Clique was tried 0 times and created 0 cuts of which 0 were active after adding rounds of cuts (0.000 seconds)\n",
      "MixedIntegerRounding2 was tried 0 times and created 0 cuts of which 0 were active after adding rounds of cuts (0.000 seconds)\n",
      "FlowCover was tried 0 times and created 0 cuts of which 0 were active after adding rounds of cuts (0.000 seconds)\n",
      "TwoMirCuts was tried 0 times and created 0 cuts of which 0 were active after adding rounds of cuts (0.000 seconds)\n",
      "ZeroHalf was tried 0 times and created 0 cuts of which 0 were active after adding rounds of cuts (0.000 seconds)\n",
      "\n",
      "Result - Optimal solution found\n",
      "\n",
      "Objective value:                110034.97489310\n",
      "Enumerated nodes:               0\n",
      "Total iterations:               0\n",
      "Time (CPU seconds):             0.00\n",
      "Time (Wallclock seconds):       0.01\n",
      "\n",
      "Option for printingOptions changed from normal to all\n",
      "Total time (CPU seconds):       0.00   (Wallclock seconds):       0.01\n",
      "\n",
      "110034.97489310525\n",
      "Representative 0:\n",
      "  - Lead 3\n",
      "  - Lead 17\n",
      "\n",
      "Representative 1:\n",
      "  - Lead 10\n",
      "  - Lead 15\n",
      "\n",
      "Representative 2:\n",
      "  - Lead 5\n",
      "  - Lead 13\n",
      "  - Lead 18\n",
      "\n",
      "Representative 3:\n",
      "  - Lead 2\n",
      "  - Lead 6\n",
      "  - Lead 7\n",
      "\n",
      "Representative 4:\n",
      "  - Lead 0\n",
      "  - Lead 1\n",
      "  - Lead 11\n",
      "\n"
     ]
    }
   ],
   "source": [
    "# solve the model\n",
    "pl.PULP_CBC_CMD().solve(m)\n",
    "\n",
    "# optimal value\n",
    "print(m.objective.value()) \n",
    "\n",
    "# variables values\n",
    "for i in df_reps.index:\n",
    "    print(f'Representative {i}:')\n",
    "    for j in df_leads.index:\n",
    "        if x[i,j].value() == 1:\n",
    "            print(f'  - Lead {j}')\n",
    "    print('')"
   ]
  },
  {
   "cell_type": "code",
   "execution_count": null,
   "metadata": {},
   "outputs": [],
   "source": []
  },
  {
   "cell_type": "code",
   "execution_count": null,
   "metadata": {},
   "outputs": [],
   "source": []
  },
  {
   "cell_type": "code",
   "execution_count": null,
   "metadata": {},
   "outputs": [],
   "source": []
  }
 ],
 "metadata": {
  "kernelspec": {
   "display_name": "Python 3 (ipykernel)",
   "language": "python",
   "name": "python3"
  },
  "language_info": {
   "codemirror_mode": {
    "name": "ipython",
    "version": 3
   },
   "file_extension": ".py",
   "mimetype": "text/x-python",
   "name": "python",
   "nbconvert_exporter": "python",
   "pygments_lexer": "ipython3",
   "version": "3.9.13"
  }
 },
 "nbformat": 4,
 "nbformat_minor": 4
}
