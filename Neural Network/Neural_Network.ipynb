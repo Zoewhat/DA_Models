{
  "nbformat": 4,
  "nbformat_minor": 0,
  "metadata": {
    "colab": {
      "provenance": []
    },
    "kernelspec": {
      "name": "python3",
      "display_name": "Python 3"
    },
    "language_info": {
      "name": "python"
    }
  },
  "cells": [
    {
      "cell_type": "markdown",
      "source": [
        "### <center>neural network</center>"
      ],
      "metadata": {
        "id": "V_0TgboRuHI3"
      }
    },
    {
      "cell_type": "code",
      "execution_count": 2,
      "metadata": {
        "id": "MwGPzU7Ut1cj"
      },
      "outputs": [],
      "source": [
        "# import packages and data\n",
        "import numpy as np \n",
        "\n",
        "X = np.array([  [0,0,1],\n",
        "                [0,1,1],\n",
        "                [1,0,1],\n",
        "                [1,1,1] ])\n",
        "y = np.array([[0,0,1,1]]).T"
      ]
    },
    {
      "cell_type": "code",
      "source": [
        "# feed the model\n",
        "\n",
        "  # active function, we can also use tanh, ReLU, Softmax, etc.\n",
        "def sigmoid(x,deriv=False):\n",
        "    if deriv:\n",
        "        return x*(1-x)\n",
        "    return 1/(1+np.exp(-x))\n",
        "\n",
        "def run_net(X,y,activation_function=sigmoid,passes=10):\n",
        "    import time\n",
        "    np.random.seed(1)\n",
        "    syn0 = 2*np.random.random((3,4)) - 1\n",
        "    syn1 = 2*np.random.random((4,1)) - 1\n",
        "\n",
        "    for i in range(passes):\n",
        "        level_0 = X\n",
        "        level_1 = activation_function(np.dot(level_0,syn0))\n",
        "        level_2 = activation_function(np.dot(level_1,syn1))\n",
        "\n",
        "        level_2_error = y - level_2\n",
        "        level_2_delta = level_2_error*activation_function(level_2,deriv=True)\n",
        "\n",
        "        level_1_error = level_2_delta.dot(syn1.T)\n",
        "        level_1_delta = level_1_error * activation_function(level_1,deriv=True)\n",
        "\n",
        "        syn1 += level_1.T.dot(level_2_delta)\n",
        "        syn0 += level_0.T.dot(level_1_delta)\n",
        "    print(level_2)\n",
        "    return syn0,syn1\n",
        "\n",
        "syn0,syn1 = run_net(X,y,activation_function=sigmoid,passes=100)\n"
      ],
      "metadata": {
        "colab": {
          "base_uri": "https://localhost:8080/"
        },
        "id": "Y-x0nj0euM-4",
        "outputId": "42770684-eeda-4a88-8ec6-60fbcacbb368"
      },
      "execution_count": 3,
      "outputs": [
        {
          "output_type": "stream",
          "name": "stdout",
          "text": [
            "[[0.09037427]\n",
            " [0.07309927]\n",
            " [0.91487466]\n",
            " [0.90535414]]\n"
          ]
        }
      ]
    },
    {
      "cell_type": "code",
      "source": [
        "# there are also nn functions, like MLPClassifier"
      ],
      "metadata": {
        "id": "-QpZUzupuNI9"
      },
      "execution_count": null,
      "outputs": []
    }
  ]
}