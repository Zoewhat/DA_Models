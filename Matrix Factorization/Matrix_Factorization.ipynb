{
  "nbformat": 4,
  "nbformat_minor": 0,
  "metadata": {
    "colab": {
      "provenance": []
    },
    "kernelspec": {
      "name": "python3",
      "display_name": "Python 3"
    },
    "language_info": {
      "name": "python"
    }
  },
  "cells": [
    {
      "cell_type": "markdown",
      "source": [
        "### <center>Matrix Factorization</center>"
      ],
      "metadata": {
        "id": "Am71xyip1mo1"
      }
    },
    {
      "cell_type": "markdown",
      "source": [
        "1. import packages\n",
        "2. format the data and feed the model\n",
        "3. predict"
      ],
      "metadata": {
        "id": "xcFL_zqs81DI"
      }
    },
    {
      "cell_type": "code",
      "source": [
        "# 1. import packages\n",
        "#!pip install scikit-surprise\n",
        "import warnings\n",
        "warnings.filterwarnings('ignore')\n",
        "import pandas as pd\n",
        "import numpy as np\n",
        "import io\n",
        "\n",
        "from surprise import SVD\n",
        "from surprise import accuracy\n",
        "from surprise.model_selection import train_test_split\n",
        "from surprise import Reader\n",
        "from surprise import Dataset\n",
        "from surprise.model_selection import cross_validate\n",
        "\n",
        "df = pd.read_csv('movie_ratings.csv')"
      ],
      "metadata": {
        "id": "feRmEVU914Lw"
      },
      "execution_count": 18,
      "outputs": []
    },
    {
      "cell_type": "code",
      "execution_count": 16,
      "metadata": {
        "colab": {
          "base_uri": "https://localhost:8080/"
        },
        "id": "j9kgh6Eh1Zdq",
        "outputId": "ec7f689e-fb2f-4216-f763-b99e89699db5"
      },
      "outputs": [
        {
          "output_type": "stream",
          "name": "stdout",
          "text": [
            "Evaluating RMSE, MAE of algorithm SVD on 5 split(s).\n",
            "\n",
            "                  Fold 1  Fold 2  Fold 3  Fold 4  Fold 5  Mean    Std     \n",
            "RMSE (testset)    0.6001  0.5225  0.6299  0.5555  0.6054  0.5827  0.0385  \n",
            "MAE (testset)     0.4927  0.3909  0.4768  0.4332  0.4951  0.4577  0.0401  \n",
            "Fit time          0.06    0.03    0.02    0.02    0.02    0.03    0.01    \n",
            "Test time         0.00    0.00    0.00    0.00    0.00    0.00    0.00    \n",
            "{'test_rmse': array([0.60007027, 0.52245324, 0.62993024, 0.55550505, 0.60535857]), 'test_mae': array([0.49273986, 0.39091352, 0.47681784, 0.43318148, 0.49506318]), 'fit_time': (0.0556178092956543, 0.028437376022338867, 0.024981975555419922, 0.024918317794799805, 0.021624326705932617), 'test_time': (0.001222372055053711, 0.0007085800170898438, 0.0019376277923583984, 0.0011911392211914062, 0.0006699562072753906)}\n"
          ]
        }
      ],
      "source": [
        "# 2. format the data and feed the model\n",
        "# format the data\n",
        "reader = Reader(line_format='user item rating', sep=',', rating_scale=(1,5))\n",
        "data = Dataset.load_from_df(df, reader)\n",
        "\n",
        "# SVD algorithm\n",
        "algo=SVD()\n",
        "result = cross_validate(algo, data, measures = ['RMSE', 'MAE'], cv=5, verbose=True);\n",
        "print(result)"
      ]
    },
    {
      "cell_type": "code",
      "source": [
        "# 3. predict movie scores\n",
        "uid=1\n",
        "iid=3\n",
        "pred = algo.predict(uid,iid, r_ui=4, verbose=True)\n",
        "movieIds=df['Movie'].unique()\n",
        "movieIdsUser1=df.loc[df['User']==1, 'Movie']\n",
        "MovieIds_to_pred = np.setdiff1d(movieIds, movieIdsUser1)\n",
        "test_set = [[1, mid, 4.] for mid in MovieIds_to_pred]\n",
        "predictions = algo.test(test_set)\n",
        "pred_ratings = np.array([pred.est for pred in predictions])\n",
        "id_max=pred_ratings.argmax()\n",
        "MovieIds_to_pred[id_max]"
      ],
      "metadata": {
        "colab": {
          "base_uri": "https://localhost:8080/"
        },
        "id": "oZsgiKUe6JrF",
        "outputId": "58252757-8baf-4b59-ff3b-bcfb2f0c2217"
      },
      "execution_count": 22,
      "outputs": [
        {
          "output_type": "stream",
          "name": "stdout",
          "text": [
            "user: 1          item: 3          r_ui = 4.00   est = 3.73   {'was_impossible': False}\n"
          ]
        },
        {
          "output_type": "execute_result",
          "data": {
            "text/plain": [
              "19"
            ]
          },
          "metadata": {},
          "execution_count": 22
        }
      ]
    },
    {
      "cell_type": "code",
      "source": [],
      "metadata": {
        "id": "35kQuFZT14UL"
      },
      "execution_count": null,
      "outputs": []
    },
    {
      "cell_type": "code",
      "source": [],
      "metadata": {
        "id": "p83KOyNr14XH"
      },
      "execution_count": null,
      "outputs": []
    }
  ]
}