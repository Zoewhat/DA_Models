{
 "cells": [
  {
   "cell_type": "markdown",
   "metadata": {},
   "source": [
    "### <center>k-NN</center>\n",
    "1. k-NN (sales **prediction**)\n",
    "\n",
    "2. k-NN (music **recommendation**)"
   ]
  },
  {
   "cell_type": "code",
   "execution_count": 2,
   "metadata": {},
   "outputs": [],
   "source": [
    "# Preparation\n",
    "\n",
    "# Import packages\n",
    "import pandas as pd\n",
    "import sklearn.model_selection as sk_ms\n",
    "import sklearn.metrics as sk_m\n",
    "import sklearn.neighbors as sk_n\n",
    "import matplotlib.pyplot as plt\n",
    "import seaborn as sns\n",
    "# load the data\n",
    "df_customers = pd.read_csv('B2B sales.csv')\n",
    "# split into training and testing set\n",
    "df_train, df_test = sk_ms.train_test_split(df_customers, train_size = 0.7,\n",
    "                                          random_state = 123, shuffle = True)"
   ]
  },
  {
   "cell_type": "code",
   "execution_count": 8,
   "metadata": {},
   "outputs": [
    {
     "name": "stderr",
     "output_type": "stream",
     "text": [
      "100%|██████████| 36/36 [00:01<00:00, 23.32it/s]\n"
     ]
    },
    {
     "data": {
      "image/png": "[encoded data removed]",
      "text/plain": [
       "<Figure size 432x288 with 1 Axes>"
      ]
     },
     "metadata": {
      "needs_background": "light"
     },
     "output_type": "display_data"
    }
   ],
   "source": [
    "# k-NN (Sales Prediction)\n",
    "# By going through the values of k from 5 to 40\n",
    "\n",
    "score_list = []\n",
    "\n",
    "import tqdm\n",
    "for k in tqdm.tqdm(range(5, 41)):\n",
    "    # Fit a k-NN model on the training set\n",
    "    knn = sk_n.KNeighborsRegressor(n_neighbors=k)\n",
    "    #nothing in the parenteces if without specific parameter\n",
    "    knn.fit(df_train.loc[:, df_train.columns != 'ltv'], df_train.ltv)\n",
    "\n",
    "    # Make predictions on the test set\n",
    "    preds = knn.predict(df_test.loc[:, df_test.columns != 'ltv'])\n",
    "\n",
    "    # Find the R-squared on the test set and append it to the\n",
    "    # score list\n",
    "    score_list.append(sk_m.r2_score(df_test.ltv, preds))\n",
    "\n",
    "# Plot the results\n",
    "import matplotlib.pyplot as plt\n",
    "import seaborn as sns\n",
    "plt.plot(range(5, 41), score_list)\n",
    "plt.xlabel('k')\n",
    "plt.ylabel('Out of Sample R-squared')\n",
    "sns.despine()"
   ]
  },
  {
   "cell_type": "code",
   "execution_count": null,
   "metadata": {},
   "outputs": [],
   "source": [
    "# preparation\n",
    "\n",
    "import pandas as pd\n",
    "import string\n",
    "import numpy as np\n",
    "\n",
    "raw_data = pd.read_csv('canvas_survey.csv')"
   ]
  },
  {
   "cell_type": "code",
   "execution_count": null,
   "metadata": {},
   "outputs": [],
   "source": [
    "# k-NN (Music Recommendation)\n",
    "# will update later"
   ]
  },
  {
   "cell_type": "code",
   "execution_count": null,
   "metadata": {},
   "outputs": [],
   "source": []
  }
 ],
 "metadata": {
  "kernelspec": {
   "display_name": "Python 3",
   "language": "python",
   "name": "python3"
  },
  "language_info": {
   "codemirror_mode": {
    "name": "ipython",
    "version": 3
   },
   "file_extension": ".py",
   "mimetype": "text/x-python",
   "name": "python",
   "nbconvert_exporter": "python",
   "pygments_lexer": "ipython3",
   "version": "3.8.3"
  }
 },
 "nbformat": 4,
 "nbformat_minor": 4
}
